{
 "cells": [
  {
   "cell_type": "code",
   "execution_count": 12,
   "metadata": {},
   "outputs": [],
   "source": [
    "import numpy as np\n",
    "import cvxopt\n",
    "from cvxopt import matrix\n",
    "from cvxopt.solvers import qp\n"
   ]
  },
  {
   "cell_type": "code",
   "execution_count": 9,
   "metadata": {},
   "outputs": [],
   "source": [
    "mu = np.array([0.05, 0.06, 0.08, 0.06])\n",
    "vol = np.array([0.15, 0.2, 0.25, 0.3])\n",
    "rho = np.array([[1, 0.1, 0.4, 0.5],\n",
    "              [0.1, 1, 0.7, 0.4],\n",
    "              [0.4, 0.7, 1, 0.8],\n",
    "              [0.5, 0.4, 0.8, 1]])"
   ]
  },
  {
   "cell_type": "markdown",
   "metadata": {},
   "source": [
    "1. Represent the efficient frontier"
   ]
  },
  {
   "cell_type": "code",
   "execution_count": 43,
   "metadata": {},
   "outputs": [],
   "source": [
    "sigma = vol * rho * vol.reshape((vol.shape[0],1))\n",
    "vec_one = np.ones(vol.shape)\n",
    "vec_zero = np.zeros(vol.shape)\n",
    "\n",
    "cvxopt.solvers.options['show_progress'] = False\n",
    "\n",
    "P = matrix(sigma)\n",
    "q = matrix(vec_zero)\n",
    "A = matrix(vec_one).trans()\n",
    "b = matrix(1.0)\n",
    "G = -matrix(mu.reshape((mu.shape[0],1))).trans()\n",
    "\n",
    "mu_target = matrix(0.1)\n",
    "x = qp(P,q,G,mu_target,A,b)\n"
   ]
  },
  {
   "cell_type": "code",
   "execution_count": 45,
   "metadata": {},
   "outputs": [
    {
     "data": {
      "text/plain": [
       "<4x1 matrix, tc='d'>"
      ]
     },
     "execution_count": 45,
     "metadata": {},
     "output_type": "execute_result"
    }
   ],
   "source": [
    "x['x']"
   ]
  },
  {
   "cell_type": "code",
   "execution_count": null,
   "metadata": {},
   "outputs": [],
   "source": []
  },
  {
   "cell_type": "code",
   "execution_count": null,
   "metadata": {},
   "outputs": [],
   "source": []
  },
  {
   "cell_type": "code",
   "execution_count": null,
   "metadata": {},
   "outputs": [],
   "source": []
  },
  {
   "cell_type": "code",
   "execution_count": null,
   "metadata": {},
   "outputs": [],
   "source": []
  }
 ],
 "metadata": {
  "kernelspec": {
   "display_name": "Python 2",
   "language": "python",
   "name": "python2"
  },
  "language_info": {
   "codemirror_mode": {
    "name": "ipython",
    "version": 2
   },
   "file_extension": ".py",
   "mimetype": "text/x-python",
   "name": "python",
   "nbconvert_exporter": "python",
   "pygments_lexer": "ipython2",
   "version": "2.7.15rc1"
  }
 },
 "nbformat": 4,
 "nbformat_minor": 2
}
