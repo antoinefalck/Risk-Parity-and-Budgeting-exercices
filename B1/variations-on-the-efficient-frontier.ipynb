{
 "cells": [
  {
   "cell_type": "code",
   "execution_count": 14,
   "metadata": {},
   "outputs": [],
   "source": [
    "import math\n",
    "import numpy as np\n",
    "import cvxopt\n",
    "from cvxopt import matrix\n",
    "from cvxopt.solvers import qp\n",
    "\n",
    "%matplotlib inline\n",
    "import matplotlib.pyplot as plt\n",
    "import seaborn as sns\n",
    "\n",
    "sns.set()"
   ]
  },
  {
   "cell_type": "code",
   "execution_count": 2,
   "metadata": {},
   "outputs": [],
   "source": [
    "mu = np.array([0.05, 0.06, 0.08, 0.06])\n",
    "vol = np.array([0.15, 0.2, 0.25, 0.3])\n",
    "rho = np.array([[1, 0.1, 0.4, 0.5],\n",
    "              [0.1, 1, 0.7, 0.4],\n",
    "              [0.4, 0.7, 1, 0.8],\n",
    "              [0.5, 0.4, 0.8, 1]])"
   ]
  },
  {
   "cell_type": "markdown",
   "metadata": {},
   "source": [
    "1. Represent the efficient frontier"
   ]
  },
  {
   "cell_type": "code",
   "execution_count": 20,
   "metadata": {},
   "outputs": [
    {
     "data": {
      "image/png": "[encoded data removed]",
      "text/plain": [
       "<Figure size 432x288 with 1 Axes>"
      ]
     },
     "metadata": {},
     "output_type": "display_data"
    }
   ],
   "source": [
    "sigma = vol * rho * vol.reshape((vol.shape[0],1))\n",
    "vec_one = np.ones(vol.shape)\n",
    "vec_zero = np.zeros(vol.shape)\n",
    "\n",
    "cvxopt.solvers.options['show_progress'] = False\n",
    "\n",
    "P = matrix(sigma)\n",
    "q = matrix(vec_zero)\n",
    "A = matrix(vec_one).trans()\n",
    "b = matrix(1.0)\n",
    "G = -matrix(mu.reshape((mu.shape[0],1))).trans()\n",
    "\n",
    "mu_target = np.arange(0,0.12,0.001)\n",
    "s_result = np.zeros(mu_target.size)\n",
    "for i in range(mu_target.size):\n",
    "    temp_target = - matrix(mu_target[i])\n",
    "    x = np.array(qp(P,q,G,temp_target,A,b)['x'])\n",
    "    x = x.reshape((x.shape[0],))\n",
    "    s_result[i] = math.sqrt(np.dot(x,np.dot(sigma,x)))\n",
    "\n",
    "ax = plt.axes()\n",
    "p = plt.plot(s_result*100,mu_target*100)\n",
    "a = ax.set(xlabel='Volatility (%)',ylabel='Expected return (%)')"
   ]
  },
  {
   "cell_type": "markdown",
   "metadata": {},
   "source": [
    "2. Calculate the minimum variance portfolio. What are its expected return and its volatility ?"
   ]
  },
  {
   "cell_type": "code",
   "execution_count": null,
   "metadata": {},
   "outputs": [],
   "source": []
  },
  {
   "cell_type": "code",
   "execution_count": null,
   "metadata": {},
   "outputs": [],
   "source": []
  },
  {
   "cell_type": "code",
   "execution_count": null,
   "metadata": {},
   "outputs": [],
   "source": []
  }
 ],
 "metadata": {
  "kernelspec": {
   "display_name": "Python 2",
   "language": "python",
   "name": "python2"
  },
  "language_info": {
   "codemirror_mode": {
    "name": "ipython",
    "version": 2
   },
   "file_extension": ".py",
   "mimetype": "text/x-python",
   "name": "python",
   "nbconvert_exporter": "python",
   "pygments_lexer": "ipython2",
   "version": "2.7.15rc1"
  }
 },
 "nbformat": 4,
 "nbformat_minor": 2
}
