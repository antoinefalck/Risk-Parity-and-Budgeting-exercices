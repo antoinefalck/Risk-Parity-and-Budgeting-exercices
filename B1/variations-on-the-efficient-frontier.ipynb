{
 "cells": [
  {
   "cell_type": "code",
   "execution_count": 1,
   "metadata": {},
   "outputs": [],
   "source": [
    "import math\n",
    "import numpy as np\n",
    "import cvxopt\n",
    "from cvxopt import matrix\n",
    "from cvxopt.solvers import qp\n",
    "\n",
    "%matplotlib inline\n",
    "import matplotlib.pyplot as plt\n",
    "import seaborn as sns\n",
    "\n",
    "sns.set()"
   ]
  },
  {
   "cell_type": "code",
   "execution_count": 2,
   "metadata": {},
   "outputs": [],
   "source": [
    "mu = np.array([0.05, 0.06, 0.08, 0.06])\n",
    "vol = np.array([0.15, 0.2, 0.25, 0.3])\n",
    "rho = np.array([[1, 0.1, 0.4, 0.5],\n",
    "              [0.1, 1, 0.7, 0.4],\n",
    "              [0.4, 0.7, 1, 0.8],\n",
    "              [0.5, 0.4, 0.8, 1]])"
   ]
  },
  {
   "cell_type": "markdown",
   "metadata": {},
   "source": [
    "1. Represent the efficient frontier"
   ]
  },
  {
   "cell_type": "code",
   "execution_count": 3,
   "metadata": {},
   "outputs": [
    {
     "data": {
      "image/png": "[encoded data removed]",
      "text/plain": [
       "<Figure size 432x288 with 1 Axes>"
      ]
     },
     "metadata": {
      "needs_background": "light"
     },
     "output_type": "display_data"
    }
   ],
   "source": [
    "sigma = vol * rho * vol.reshape((vol.shape[0],1))\n",
    "vec_one = np.ones(vol.shape)\n",
    "vec_zero = np.zeros(vol.shape)\n",
    "\n",
    "cvxopt.solvers.options['show_progress'] = False\n",
    "\n",
    "P = matrix(sigma)\n",
    "q = matrix(mu)\n",
    "A = matrix(vec_one).trans()\n",
    "b = matrix(1.0)\n",
    "G = matrix()\n",
    "\n",
    "gamma = np.arange(-1,1,0.1)\n",
    "s_result, exp_returns = np.zeros(gamma.size), np.zeros(gamma.size)\n",
    "for i in range(gamma.size):\n",
    "    x = np.array(qp(P=P,q=-matrix(gamma[i]*q),A=A,b=b)['x'])\n",
    "    x = x.reshape((x.shape[0],))\n",
    "    exp_returns[i] = np.dot(x,mu)\n",
    "    s_result[i] = math.sqrt(np.dot(x,np.dot(sigma,x)))\n",
    "\n",
    "ax = plt.axes()\n",
    "p = plt.plot(s_result*100,exp_returns*100)\n",
    "a = ax.set(xlabel='Volatility (%)',ylabel='Expected return (%)')"
   ]
  },
  {
   "cell_type": "markdown",
   "metadata": {},
   "source": [
    "2. Calculate the minimum variance portfolio. What are its expected return and its volatility ?"
   ]
  },
  {
   "cell_type": "code",
   "execution_count": 4,
   "metadata": {},
   "outputs": [
    {
     "name": "stdout",
     "output_type": "stream",
     "text": [
      "[ 0.72742452  0.49464311 -0.20453597 -0.01753165]\n",
      "0.04863503548072911\n",
      "0.119951987055\n"
     ]
    }
   ],
   "source": [
    "x = np.array(qp(P=P,q=matrix(0*q),A=A,b=b)['x'])\n",
    "x = x.reshape((x.shape[0],))\n",
    "print x\n",
    "print np.dot(x,mu)\n",
    "print math.sqrt(np.dot(x,np.dot(sigma,x)))"
   ]
  },
  {
   "cell_type": "markdown",
   "metadata": {},
   "source": [
    "3. Calculate the optimal portfolio which has an ex-ante volatility of $\\sigma^\\star=20\\%$."
   ]
  },
  {
   "cell_type": "code",
   "execution_count": 5,
   "metadata": {},
   "outputs": [
    {
     "name": "stdout",
     "output_type": "stream",
     "text": [
      "[ 0.54585319 -0.10716778  1.20501426 -0.64369967]\n",
      "0.07864175333936271\n"
     ]
    }
   ],
   "source": [
    "target_vol = 0.2\n",
    "precision = 0.000001\n",
    "\n",
    "gamma_plus, gamma_minus = 1, 0\n",
    "x_plus, x_minus = np.array(qp(P=P,q=matrix(gamma_plus*q),A=A,b=b)['x']), np.array(qp(P=P,q=matrix(gamma_minus*q),A=A,b=b)['x'])\n",
    "x_plus, x_minus = x_plus.reshape((x_plus.shape[0],)), x_minus.reshape((x_minus.shape[0],))\n",
    "s_plus, s_minus = math.sqrt(np.dot(x_plus, np.dot(sigma,x_plus))), math.sqrt(np.dot(x_minus, np.dot(sigma,x_minus)))\n",
    "s_mean = (s_plus+s_minus)/2.0\n",
    "while math.fabs(s_mean-target_vol)>precision:\n",
    "    if s_mean>target_vol:\n",
    "        gamma_plus = (gamma_plus+gamma_minus)/2.0\n",
    "        x_plus = np.array(qp(P=P,q=-matrix(gamma_plus*q),A=A,b=b)['x'])\n",
    "        x_plus = x_plus.reshape((x_plus.shape[0],))\n",
    "        s_plus = math.sqrt(np.dot(x_plus, np.dot(sigma,x_plus)))\n",
    "    else:\n",
    "        gamma_minus = (gamma_plus+gamma_minus)/2.0\n",
    "        x_minus = np.array(qp(P=P,q=-matrix(gamma_minus*q),A=A,b=b)['x'])\n",
    "        x_minus = x_minus.reshape((x_minus.shape[0],))\n",
    "        s_minus = math.sqrt(np.dot(x_minus, np.dot(sigma,x_minus)))\n",
    "    s_mean = (s_plus+s_minus)/2.0\n",
    "\n",
    "print x_minus\n",
    "print np.dot(x_minus,mu)"
   ]
  },
  {
   "cell_type": "markdown",
   "metadata": {},
   "source": [
    "4. We note $x^{(1)}$ the minimum variance portfolio and $x^{(2)}$ the optimal portfolio with $\\sigma^\\star=20\\%$. We consider the set of portfolios $x^{(\\alpha)}$ defined by the relationship: $x^{(\\alpha)}=(1-\\alpha)x^{(1)}+\\alpha x^{(2)}$.\n",
    "\n",
    "In the previous efficient frontier, place the portfolios $x^{(\\alpha)}$."
   ]
  },
  {
   "cell_type": "code",
   "execution_count": 7,
   "metadata": {},
   "outputs": [],
   "source": [
    "x_1 = x\n",
    "x_2 = x_minus\n",
    "\n",
    "alpha = np.arange(-0.5,1,0.1)\n",
    "s_alpha, r_alpha = 1,1"
   ]
  },
  {
   "cell_type": "code",
   "execution_count": 8,
   "metadata": {},
   "outputs": [
    {
     "data": {
      "text/plain": [
       "array([-5.00000000e-01, -4.00000000e-01, -3.00000000e-01, -2.00000000e-01,\n",
       "       -1.00000000e-01, -1.11022302e-16,  1.00000000e-01,  2.00000000e-01,\n",
       "        3.00000000e-01,  4.00000000e-01,  5.00000000e-01,  6.00000000e-01,\n",
       "        7.00000000e-01,  8.00000000e-01,  9.00000000e-01])"
      ]
     },
     "execution_count": 8,
     "metadata": {},
     "output_type": "execute_result"
    }
   ],
   "source": [
    "alpha"
   ]
  },
  {
   "cell_type": "code",
   "execution_count": null,
   "metadata": {},
   "outputs": [],
   "source": []
  }
 ],
 "metadata": {
  "kernelspec": {
   "display_name": "Python 2",
   "language": "python",
   "name": "python2"
  },
  "language_info": {
   "codemirror_mode": {
    "name": "ipython",
    "version": 2
   },
   "file_extension": ".py",
   "mimetype": "text/x-python",
   "name": "python",
   "nbconvert_exporter": "python",
   "pygments_lexer": "ipython2",
   "version": "2.7.15rc1"
  }
 },
 "nbformat": 4,
 "nbformat_minor": 2
}
