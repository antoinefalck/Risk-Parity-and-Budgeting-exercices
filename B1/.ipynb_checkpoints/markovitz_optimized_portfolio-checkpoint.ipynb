{
 "cells": [
  {
   "cell_type": "code",
   "execution_count": 74,
   "metadata": {},
   "outputs": [],
   "source": [
    "from math import sqrt \n",
    "import numpy as np"
   ]
  },
  {
   "cell_type": "code",
   "execution_count": 86,
   "metadata": {},
   "outputs": [],
   "source": [
    "volatilities = np.array([0.15, 0.15, 0.05])\n",
    "mu = np.array([0.1, 0.1, 0.05])\n",
    "rho = np.array([[1, 0.5, 0.2],\n",
    "               [0.5, 1, 0.2],\n",
    "                [0.2, 0.2, 1]])"
   ]
  },
  {
   "cell_type": "markdown",
   "metadata": {},
   "source": [
    "1. Find the minimum variance portfolio."
   ]
  },
  {
   "cell_type": "code",
   "execution_count": 87,
   "metadata": {},
   "outputs": [
    {
     "data": {
      "text/latex": [
       "I like to write the solution as (for a targeted volatility $\\sigma$):\n",
       "\\begin{eqnarray}\n",
       "x &=& \\frac{-1}{\\lambda}\\Sigma^{-1}(\\mu+\\varphi 1)\\\\\n",
       "\\varphi &=& \\frac{-1}{C}(\\lambda+B)\\\\\n",
       "\\lambda^2 &=& \\frac{B^2-AC}{1-\\sigma^2C}\n",
       "\\end{eqnarray}\n",
       "With $A=\\mu^{\\mathrm{T}}\\Sigma^{-1}\\mu$, $B=\\mu^{\\mathrm{T}}\\Sigma^{-1}1$, $A=1^{\\mathrm{T}}\\Sigma^{-1}1$."
      ],
      "text/plain": [
       "<IPython.core.display.Latex object>"
      ]
     },
     "metadata": {},
     "output_type": "display_data"
    }
   ],
   "source": [
    "%%latex\n",
    "I like to write the solution as (for a targeted volatility $\\sigma$):\n",
    "\\begin{eqnarray}\n",
    "x &=& \\frac{-1}{\\lambda}\\Sigma^{-1}(\\mu+\\varphi 1)\\\\\n",
    "\\varphi &=& \\frac{-1}{C}(\\lambda+B)\\\\\n",
    "\\lambda^2 &=& \\frac{B^2-AC}{1-\\sigma^2C}\n",
    "\\end{eqnarray}\n",
    "With $A=\\mu^{\\mathrm{T}}\\Sigma^{-1}\\mu$, $B=\\mu^{\\mathrm{T}}\\Sigma^{-1}1$, $A=1^{\\mathrm{T}}\\Sigma^{-1}1$."
   ]
  },
  {
   "cell_type": "code",
   "execution_count": 90,
   "metadata": {},
   "outputs": [
    {
     "data": {
      "text/plain": [
       "0.04938553733341296"
      ]
     },
     "execution_count": 90,
     "metadata": {},
     "output_type": "execute_result"
    }
   ],
   "source": [
    "vec_one = np.ones(volatilities.shape)\n",
    "sigma = volatilities * rho * volatilities.reshape((volatilities.shape[0],1))\n",
    "sigma_inv = np.linalg.inv(sigma)\n",
    "\n",
    "A = np.dot(np.dot(mu,sigma_inv),mu)\n",
    "B = np.dot(np.dot(mu,sigma_inv),vec_one)\n",
    "C = np.dot(np.dot(vec_one,sigma_inv),vec_one)\n",
    "\n",
    "x_mv = np.dot(vec_one, sigma_inv) / C\n",
    "x_mv"
   ]
  },
  {
   "cell_type": "markdown",
   "metadata": {},
   "source": [
    "2. Find the optimal portfolio which has an ex-ante volatility equal to 5%"
   ]
  },
  {
   "cell_type": "code",
   "execution_count": 107,
   "metadata": {},
   "outputs": [
    {
     "data": {
      "text/plain": [
       "array([0.0610687, 0.0610687, 0.8778626])"
      ]
     },
     "execution_count": 107,
     "metadata": {},
     "output_type": "execute_result"
    }
   ],
   "source": [
    "sigma_target = 0.05\n",
    "lambda_target = -sqrt((B**2-A*C)/(1-sigma_target**2*C))\n",
    "phi_target = -1/C*(lambda_target+B)\n",
    "\n",
    "x = -1/lambda_target*np.dot(sigma_inv,(mu+phi_target))\n",
    "x"
   ]
  },
  {
   "cell_type": "markdown",
   "metadata": {},
   "source": [
    "3. Find the optimal portfolio which has an ex-ante volatility equal to 10%"
   ]
  },
  {
   "cell_type": "code",
   "execution_count": 108,
   "metadata": {},
   "outputs": [
    {
     "data": {
      "text/plain": [
       "array([0.37029333, 0.37029333, 0.25941334])"
      ]
     },
     "execution_count": 108,
     "metadata": {},
     "output_type": "execute_result"
    }
   ],
   "source": [
    "sigma_target = 0.1\n",
    "lambda_target = -sqrt((B**2-A*C)/(1-sigma_target**2*C))\n",
    "phi_target = -1/C*(lambda_target+B)\n",
    "\n",
    "x = -1/lambda_target*np.dot(sigma_inv,(mu+phi_target))\n",
    "x"
   ]
  },
  {
   "cell_type": "markdown",
   "metadata": {},
   "source": [
    "5. We impose a minimum exposure of 8% for the first asset\n",
    "\n",
    "    a. Calculate the solution of Q 1, 2 and 3 by taking into account this new constraint"
   ]
  },
  {
   "cell_type": "code",
   "execution_count": 109,
   "metadata": {},
   "outputs": [],
   "source": [
    "#############\n",
    "# continue here\n",
    "#############"
   ]
  },
  {
   "cell_type": "code",
   "execution_count": null,
   "metadata": {},
   "outputs": [],
   "source": []
  }
 ],
 "metadata": {
  "kernelspec": {
   "display_name": "Python 2",
   "language": "python",
   "name": "python2"
  },
  "language_info": {
   "codemirror_mode": {
    "name": "ipython",
    "version": 2
   },
   "file_extension": ".py",
   "mimetype": "text/x-python",
   "name": "python",
   "nbconvert_exporter": "python",
   "pygments_lexer": "ipython2",
   "version": "2.7.15rc1"
  }
 },
 "nbformat": 4,
 "nbformat_minor": 2
}
